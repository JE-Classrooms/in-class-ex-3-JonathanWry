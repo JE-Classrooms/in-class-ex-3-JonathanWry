{
 "cells": [
  {
   "cell_type": "markdown",
   "metadata": {},
   "source": [
    "# In-class exercise 3\n",
    "\n",
    "**Author:**"
   ]
  },
  {
   "cell_type": "markdown",
   "metadata": {},
   "source": [
    "**Exercises:**\n",
    "\n",
    "1. Import the ```fifa23_players.csv``` table using Pandas\n",
    "\n",
    "2. Print the first first rows of all the columns in the table\n",
    "\n",
    "3. Print all the columns in the table using the method ```column```\n",
    "\n",
    "4. Check the data type for the columns in your data table\n",
    "\n",
    "5. Provide summary statistics for all the numerical variables in the table. What are the average age and the average potential for the players in the data table?\n",
    "\n",
    "6. What is the last name for the player with the highest potential in Fifa 23? Print the table you used to get the information."
   ]
  },
  {
   "cell_type": "code",
   "execution_count": 32,
   "metadata": {},
   "outputs": [
    {
     "name": "stdout",
     "output_type": "stream",
     "text": [
      "            Overall     Potential  Value(in Euro)           Age  \\\n",
      "count  18539.000000  18539.000000    1.853900e+04  18539.000000   \n",
      "mean      65.852042     71.016668    2.875461e+06     25.240412   \n",
      "std        6.788353      6.192866    7.635129e+06      4.718163   \n",
      "min       47.000000     48.000000    0.000000e+00     16.000000   \n",
      "25%       62.000000     67.000000    4.750000e+05     21.000000   \n",
      "50%       66.000000     71.000000    1.000000e+06     25.000000   \n",
      "75%       70.000000     75.000000    2.000000e+06     29.000000   \n",
      "max       91.000000     95.000000    1.905000e+08     44.000000   \n",
      "\n",
      "       Height(in cm)  Weight(in kg)    TotalStats     BaseStats  \\\n",
      "count   18539.000000   18539.000000  18539.000000  18539.000000   \n",
      "mean      181.550839      75.173904   1602.114569    357.946221   \n",
      "std         6.858097       7.013593    273.160237     39.628259   \n",
      "min       155.000000      49.000000    759.000000    224.000000   \n",
      "25%       177.000000      70.000000   1470.000000    331.000000   \n",
      "50%       182.000000      75.000000   1640.000000    358.000000   \n",
      "75%       186.000000      80.000000   1786.000000    385.000000   \n",
      "max       206.000000     105.000000   2312.000000    502.000000   \n",
      "\n",
      "       Wage(in Euro)  Release Clause  ...     LM Rating     CM Rating  \\\n",
      "count   18539.000000    1.853900e+04  ...  18539.000000  18539.000000   \n",
      "mean     8824.537462    5.081688e+06  ...     58.451319     57.374076   \n",
      "std     19460.531154    1.467203e+07  ...     13.987122     13.171194   \n",
      "min         0.000000    0.000000e+00  ...     18.000000     18.000000   \n",
      "25%      1000.000000    6.650000e+05  ...     54.000000     53.000000   \n",
      "50%      3000.000000    1.500000e+06  ...     62.000000     60.000000   \n",
      "75%      8000.000000    3.400000e+06  ...     67.000000     66.000000   \n",
      "max    450000.000000    3.667000e+08  ...     92.000000     91.000000   \n",
      "\n",
      "          RM Rating    LWB Rating    CDM Rating    RWB Rating     LB Rating  \\\n",
      "count  18539.000000  18539.000000  18539.000000  18539.000000  18539.000000   \n",
      "mean      58.451319     56.281569     55.928583     56.281569     55.650251   \n",
      "std       13.987122     13.903836     13.872190     13.903836     14.159466   \n",
      "min       18.000000     17.000000     19.000000     17.000000     17.000000   \n",
      "25%       54.000000     51.000000     48.000000     51.000000     49.000000   \n",
      "50%       62.000000     59.000000     59.000000     59.000000     59.000000   \n",
      "75%       67.000000     66.000000     66.000000     66.000000     65.000000   \n",
      "max       92.000000     88.000000     89.000000     88.000000     87.000000   \n",
      "\n",
      "          CB Rating     RB Rating     GK Rating  \n",
      "count  18539.000000  18539.000000  18539.000000  \n",
      "mean      54.528184     55.650251     23.257134  \n",
      "std       14.743929     14.159466     15.108925  \n",
      "min       18.000000     17.000000     10.000000  \n",
      "25%       45.000000     49.000000     17.000000  \n",
      "50%       58.000000     59.000000     18.000000  \n",
      "75%       66.000000     65.000000     20.000000  \n",
      "max       90.000000     87.000000     90.000000  \n",
      "\n",
      "[8 rows x 71 columns]\n"
     ]
    }
   ],
   "source": [
    "import pandas as pd\n",
    "fifa=pd.read_csv(\"fifa23_players.csv\")\n",
    "# print(fifa.head(5))\n",
    "# print(fifa.columns)\n",
    "# print(fifa.dtypes)\n",
    "# print(fifa.describe())\n",
    "# print(fifa.sort_values(by='Potential', ascending=False).head(1))"
   ]
  },
  {
   "cell_type": "code",
   "execution_count": null,
   "metadata": {},
   "outputs": [],
   "source": []
  },
  {
   "cell_type": "code",
   "execution_count": null,
   "metadata": {},
   "outputs": [],
   "source": []
  }
 ],
 "metadata": {
  "kernelspec": {
   "display_name": "conda_amazonei_mxnet_p36",
   "language": "python",
   "name": "conda_amazonei_mxnet_p36"
  },
  "language_info": {
   "codemirror_mode": {
    "name": "ipython",
    "version": 3
   },
   "file_extension": ".py",
   "mimetype": "text/x-python",
   "name": "python",
   "nbconvert_exporter": "python",
   "pygments_lexer": "ipython3",
   "version": "3.6.13"
  },
  "vscode": {
   "interpreter": {
    "hash": "11838f79d2aaadbfa3a2adfaf35bacdebdb4e8d9b63957ddf298964812544a76"
   }
  }
 },
 "nbformat": 4,
 "nbformat_minor": 4
}
